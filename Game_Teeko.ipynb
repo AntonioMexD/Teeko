{
 "cells": [
  {
   "cell_type": "code",
   "execution_count": 9,
   "metadata": {},
   "outputs": [],
   "source": [
    "import math\n",
    "import matplotlib.pyplot as plt\n",
    "import numpy as np\n",
    "from time import time\n",
    "import random\n",
    "import turtle"
   ]
  },
  {
   "cell_type": "code",
   "execution_count": 10,
   "metadata": {},
   "outputs": [
    {
     "name": "stdout",
     "output_type": "stream",
     "text": [
      "[['' '' '' '' '']\n",
      " ['' '' '' '' '']\n",
      " ['' '' '' '' '']\n",
      " ['' '' '' '' '']\n",
      " ['' '' '' '' '']]\n"
     ]
    }
   ],
   "source": [
    "board_arr = np.array([[\"\", \"\", \"\", \"\", \"\"],\n",
    "                      [\"\", \"\", \"\", \"\", \"\"],\n",
    "                      [\"\", \"\", \"\", \"\", \"\"],\n",
    "                      [\"\", \"\", \"\", \"\", \"\"],\n",
    "                      [\"\", \"\", \"\", \"\", \"\"]])\n",
    "print(board_arr)"
   ]
  },
  {
   "cell_type": "code",
   "execution_count": 11,
   "metadata": {},
   "outputs": [],
   "source": [
    "sc = turtle.Screen()\n",
    "pen = turtle.Turtle()"
   ]
  },
  {
   "cell_type": "code",
   "execution_count": 13,
   "metadata": {},
   "outputs": [],
   "source": [
    "def board_func():\n",
    "    for row in range(4):\n",
    "        pen.forward(30)\n",
    "        pen.left(90)\n",
    "        \n",
    "    pen.forward(30)"
   ]
  },
  {
   "cell_type": "code",
   "execution_count": 14,
   "metadata": {},
   "outputs": [
    {
     "ename": "",
     "evalue": "",
     "output_type": "error",
     "traceback": [
      "\u001b[1;31mEl Kernel se bloqueó al ejecutar código en la celda actual o en una celda anterior. Revise el código de las celdas para identificar una posible causa del error. Haga clic <a href='https://aka.ms/vscodeJupyterKernelCrash'>aquí</a> para obtener más información. Vea el [registro] de Jupyter (command:jupyter.viewOutput) para obtener más detalles."
     ]
    }
   ],
   "source": [
    "def board_game():\n",
    "    if __name__ == \"__main__\" :\n",
    "        sc.setup(600, 600)\n",
    "        pen.speed(100)\n",
    "        for i in range(5):\n",
    "            pen.up()\n",
    "            pen.setpos(0, 30 * i)\n",
    "            pen.down()\n",
    "            for j in range(5):\n",
    "                if (i + j)% 2 == 0:\n",
    "                    col ='black'\n",
    "                else:\n",
    "                    col ='white'\n",
    "                pen.fillcolor(col)\n",
    "                pen.begin_fill()\n",
    "                board_func()\n",
    "                pen.end_fill()\n",
    "        pen.hideturtle()"
   ]
  }
 ],
 "metadata": {
  "kernelspec": {
   "display_name": "Python 3.10.6 64-bit",
   "language": "python",
   "name": "python3"
  },
  "language_info": {
   "codemirror_mode": {
    "name": "ipython",
    "version": 3
   },
   "file_extension": ".py",
   "mimetype": "text/x-python",
   "name": "python",
   "nbconvert_exporter": "python",
   "pygments_lexer": "ipython3",
   "version": "3.10.6"
  },
  "orig_nbformat": 4,
  "vscode": {
   "interpreter": {
    "hash": "dcf522520c4ab294874b08ad2d5e2f4ff47a53358720a277eb0c4174011f720e"
   }
  }
 },
 "nbformat": 4,
 "nbformat_minor": 2
}
