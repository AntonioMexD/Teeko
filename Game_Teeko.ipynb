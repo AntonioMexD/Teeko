{
 "cells": [
  {
   "cell_type": "code",
   "execution_count": 21,
   "metadata": {},
   "outputs": [],
   "source": [
    "import math\n",
    "import matplotlib.pyplot as plt\n",
    "import numpy as np\n",
    "from time import time\n",
    "import random\n",
    "from math import inf\n",
    "import msvcrt"
   ]
  },
  {
   "cell_type": "code",
   "execution_count": 22,
   "metadata": {},
   "outputs": [],
   "source": [
    "def _init_(self):\n",
    "    name = \"\"\n",
    "    character = \"\"\n",
    "    winner = \"\"\n",
    "    max_depth = 5"
   ]
  },
  {
   "cell_type": "code",
   "execution_count": 23,
   "metadata": {},
   "outputs": [],
   "source": [
    "class Player:\n",
    "    name = \"\"\n",
    "    character = \"\"\n",
    "    winner = \"\""
   ]
  },
  {
   "cell_type": "code",
   "execution_count": 15,
   "metadata": {},
   "outputs": [],
   "source": [
    "board_arr = np.array([[\" \", \" \", \" \", \" \", \" \"],\n",
    "                      [\" \", \" \", \" \", \" \", \" \"],\n",
    "                      [\" \", \" \", \" \", \" \", \" \"],\n",
    "                      [\" \", \" \", \" \", \" \", \" \"],\n",
    "                      [\" \", \" \", \" \", \" \", \" \"]])"
   ]
  },
  {
   "cell_type": "code",
   "execution_count": 16,
   "metadata": {},
   "outputs": [],
   "source": [
    "class TeekoGame:\n",
    "    cant = 0\n",
    "    state = False\n",
    "    def moveBoads():\n",
    "        for row in 5:\n",
    "            for column in 5:\n",
    "                if board_arr[row][column] == \" \":\n",
    "                    cant = cant + 1\n",
    "        if cant > 0:\n",
    "            state = True\n",
    "        return state\n",
    "\n",
    "    def validMove(pos):\n",
    "        state = False\n",
    "        if board_arr[pos][pos]==\" \":\n",
    "            state = True\n",
    "        return state\n",
    "\n",
    "    def newMove(pos, state):\n",
    "        print(\"Choose anothe possition\")\n",
    "        if state == True:\n",
    "            newPos = msvcrt.getch()\n",
    "        else:\n",
    "            newPos = pos\n",
    "        return newPos\n",
    "\n",
    "    def playerTurn(pos, piece, move, aux):\n",
    "        if TeekoGame.validMove(pos):\n",
    "            board_arr[pos][pos] = piece\n",
    "        else:\n",
    "            newPos = TeekoGame.newMove(aux, move)\n",
    "            while (TeekoGame.validMove(newPos)==False):\n",
    "                newPos=TeekoGame.newMove(aux, move)\n",
    "            board_arr[newPos][newPos] = piece\n",
    "    \n",
    "    def isWinner(pos, piece, cont):\n",
    "        if (board_arr[pos][0] == piece and board_arr[pos][1] == piece and board_arr[pos][2] == piece and board_arr[pos][3] == piece):\n",
    "            cont=cont+1\n",
    "        if (board_arr[0][pos] == piece and board_arr[1][pos] == piece and board_arr[2][pos] == piece and board_arr[3][pos] == piece):\n",
    "            cont=cont+1\n",
    "        if (board_arr[0][0] == piece and board_arr[1][1] == piece and board_arr[2][2] == piece and board_arr[3][3] == piece):\n",
    "            cont=cont+1\n",
    "        if (board_arr[0][2] == piece and board_arr[1][1] == piece and board_arr[2][0] == piece):\n",
    "            cont=cont+1\n",
    "        return cont\n",
    "\n",
    "    def Winner(pos, piece, cont):\n",
    "        state = False\n",
    "        cont = 0\n",
    "        for i in 5:\n",
    "            cont = TeekoGame.isWinner(pos, piece, cont)\n",
    "        if cont > 0:\n",
    "            state = True\n",
    "        return state"
   ]
  },
  {
   "cell_type": "code",
   "execution_count": 17,
   "metadata": {},
   "outputs": [],
   "source": [
    "class PlayGame:\n",
    "\n",
    "    def movePlayer(board, player):\n",
    "        print(\"Your turn player\")\n",
    "        pos = msvcrt.getch()\n",
    "        board.playerTurn(pos, player.piece, True, aux)\n",
    "        board.GameBoard()\n",
    "    \n",
    "    def InsertName(player, name):\n",
    "        player.name = name\n",
    "\n",
    "    def InitPlayer(player, name, character):\n",
    "        PlayGame.InsertName(player, name)\n",
    "        player.character = character\n",
    "\n",
    "    def InitGame(player1, player2):\n",
    "        teekoGame = TeekoGame\n",
    "        player = Player\n",
    "        while teekoGame.moveBoads() and not(teekoGame.Winner(player1.character)) and not(teekoGame.Winner(player2.character)):\n",
    "            PlayGame.movePlayer(teekoGame, player1)\n",
    "            if teekoGame.moveBoads() and not(teekoGame.Winner(player1.character)) and not(teekoGame.Winner(player1.character)):\n",
    "                PlayGame.movePlayer(teekoGame, player2)\n",
    "        if teekoGame.Winner(player1.character):\n",
    "            player1.winner = True\n",
    "            player = player1\n",
    "        else:\n",
    "            if teekoGame.Winner(player2.character):\n",
    "                player2.winner = True\n",
    "                player = player2\n",
    "        return player   "
   ]
  },
  {
   "cell_type": "code",
   "execution_count": 24,
   "metadata": {},
   "outputs": [
    {
     "ename": "SyntaxError",
     "evalue": "incomplete input (1784469192.py, line 26)",
     "output_type": "error",
     "traceback": [
      "\u001b[1;36m  Input \u001b[1;32mIn [24]\u001b[1;36m\u001b[0m\n\u001b[1;33m    def AlphaBetaPruning():\u001b[0m\n\u001b[1;37m                           ^\u001b[0m\n\u001b[1;31mSyntaxError\u001b[0m\u001b[1;31m:\u001b[0m incomplete input\n"
     ]
    }
   ],
   "source": [
    "def cut_Off(state, depth):\n",
    "    return depth == max_depth\n",
    "\n",
    "def minMaxWithDepth(state, player):\n",
    "    if player == \"MAX\":\n",
    "        return minValue()\n",
    "    else: \n",
    "        return maxValue()\n",
    "\n",
    "def minValue(state, alpha, beta, depth, actions):\n",
    "    if(cut_Off(state, depth)):\n",
    "        return eval(state)\n",
    "    v = inf\n",
    "    for a in range(actions):\n",
    "        v = min(v, maxValue(state, actions, alpha, beta, depth+1))\n",
    "        if(v <= alpha):\n",
    "            return v\n",
    "        beta = min(beta, v)\n",
    "    return v\n",
    "\n",
    "def maxValue(state, alpha, beta, depth, actions):\n",
    "    if(cut_Off(state, depth)):\n",
    "        return eval(state)\n",
    "    v = inf\n",
    "    for a in range(actions):\n",
    "        v = min(v, maxValue(state, actions, alpha, beta, depth+1))\n",
    "        if(v <= alpha):\n",
    "            return v\n",
    "        beta = min(beta, v)\n",
    "    return v\n",
    "\n",
    "#def AlphaBetaPruning():\n"
   ]
  },
  {
   "cell_type": "code",
   "execution_count": 20,
   "metadata": {},
   "outputs": [
    {
     "name": "stdout",
     "output_type": "stream",
     "text": [
      "Insert name player 1\n",
      "Hi Juan\n",
      "Insert name player 2\n",
      "Hi Pepe\n"
     ]
    },
    {
     "ename": "TypeError",
     "evalue": "'int' object is not iterable",
     "output_type": "error",
     "traceback": [
      "\u001b[1;31m---------------------------------------------------------------------------\u001b[0m",
      "\u001b[1;31mTypeError\u001b[0m                                 Traceback (most recent call last)",
      "\u001b[1;32mc:\\Users\\Antonio\\Documents\\Universidad\\II-2022\\Sistemas Inteligentes\\Tareas Otros\\Teeko\\Teeko\\Game_Teeko.ipynb Celda 6\u001b[0m in \u001b[0;36m<cell line: 1>\u001b[1;34m()\u001b[0m\n\u001b[1;32m----> <a href='vscode-notebook-cell:/c%3A/Users/Antonio/Documents/Universidad/II-2022/Sistemas%20Inteligentes/Tareas%20Otros/Teeko/Teeko/Game_Teeko.ipynb#X25sZmlsZQ%3D%3D?line=0'>1</a>\u001b[0m \u001b[39mclass\u001b[39;00m \u001b[39mMain\u001b[39;00m:\n\u001b[0;32m      <a href='vscode-notebook-cell:/c%3A/Users/Antonio/Documents/Universidad/II-2022/Sistemas%20Inteligentes/Tareas%20Otros/Teeko/Teeko/Game_Teeko.ipynb#X25sZmlsZQ%3D%3D?line=2'>3</a>\u001b[0m     playGame \u001b[39m=\u001b[39m PlayGame\n\u001b[0;32m      <a href='vscode-notebook-cell:/c%3A/Users/Antonio/Documents/Universidad/II-2022/Sistemas%20Inteligentes/Tareas%20Otros/Teeko/Teeko/Game_Teeko.ipynb#X25sZmlsZQ%3D%3D?line=4'>5</a>\u001b[0m     player1 \u001b[39m=\u001b[39m Player\n",
      "\u001b[1;32mc:\\Users\\Antonio\\Documents\\Universidad\\II-2022\\Sistemas Inteligentes\\Tareas Otros\\Teeko\\Teeko\\Game_Teeko.ipynb Celda 6\u001b[0m in \u001b[0;36mMain\u001b[1;34m()\u001b[0m\n\u001b[0;32m     <a href='vscode-notebook-cell:/c%3A/Users/Antonio/Documents/Universidad/II-2022/Sistemas%20Inteligentes/Tareas%20Otros/Teeko/Teeko/Game_Teeko.ipynb#X25sZmlsZQ%3D%3D?line=13'>14</a>\u001b[0m playGame\u001b[39m.\u001b[39mInitPlayer(player1, name1, \u001b[39m\"\u001b[39m\u001b[39mx\u001b[39m\u001b[39m\"\u001b[39m)\n\u001b[0;32m     <a href='vscode-notebook-cell:/c%3A/Users/Antonio/Documents/Universidad/II-2022/Sistemas%20Inteligentes/Tareas%20Otros/Teeko/Teeko/Game_Teeko.ipynb#X25sZmlsZQ%3D%3D?line=14'>15</a>\u001b[0m playGame\u001b[39m.\u001b[39mInitPlayer(player2, name1, \u001b[39m\"\u001b[39m\u001b[39mo\u001b[39m\u001b[39m\"\u001b[39m)\n\u001b[1;32m---> <a href='vscode-notebook-cell:/c%3A/Users/Antonio/Documents/Universidad/II-2022/Sistemas%20Inteligentes/Tareas%20Otros/Teeko/Teeko/Game_Teeko.ipynb#X25sZmlsZQ%3D%3D?line=15'>16</a>\u001b[0m player \u001b[39m=\u001b[39m playGame\u001b[39m.\u001b[39;49mInitGame(player1, player2)\n\u001b[0;32m     <a href='vscode-notebook-cell:/c%3A/Users/Antonio/Documents/Universidad/II-2022/Sistemas%20Inteligentes/Tareas%20Otros/Teeko/Teeko/Game_Teeko.ipynb#X25sZmlsZQ%3D%3D?line=17'>18</a>\u001b[0m \u001b[39mif\u001b[39;00m player\u001b[39m.\u001b[39mwinner:\n\u001b[0;32m     <a href='vscode-notebook-cell:/c%3A/Users/Antonio/Documents/Universidad/II-2022/Sistemas%20Inteligentes/Tareas%20Otros/Teeko/Teeko/Game_Teeko.ipynb#X25sZmlsZQ%3D%3D?line=18'>19</a>\u001b[0m     \u001b[39mprint\u001b[39m(player\u001b[39m.\u001b[39mname \u001b[39m+\u001b[39m \u001b[39m\"\u001b[39m\u001b[39mWins!\u001b[39m\u001b[39m\"\u001b[39m)\n",
      "\u001b[1;32mc:\\Users\\Antonio\\Documents\\Universidad\\II-2022\\Sistemas Inteligentes\\Tareas Otros\\Teeko\\Teeko\\Game_Teeko.ipynb Celda 6\u001b[0m in \u001b[0;36mPlayGame.InitGame\u001b[1;34m(player1, player2)\u001b[0m\n\u001b[0;32m     <a href='vscode-notebook-cell:/c%3A/Users/Antonio/Documents/Universidad/II-2022/Sistemas%20Inteligentes/Tareas%20Otros/Teeko/Teeko/Game_Teeko.ipynb#X25sZmlsZQ%3D%3D?line=16'>17</a>\u001b[0m teekoGame \u001b[39m=\u001b[39m TeekoGame\n\u001b[0;32m     <a href='vscode-notebook-cell:/c%3A/Users/Antonio/Documents/Universidad/II-2022/Sistemas%20Inteligentes/Tareas%20Otros/Teeko/Teeko/Game_Teeko.ipynb#X25sZmlsZQ%3D%3D?line=17'>18</a>\u001b[0m player \u001b[39m=\u001b[39m Player\n\u001b[1;32m---> <a href='vscode-notebook-cell:/c%3A/Users/Antonio/Documents/Universidad/II-2022/Sistemas%20Inteligentes/Tareas%20Otros/Teeko/Teeko/Game_Teeko.ipynb#X25sZmlsZQ%3D%3D?line=18'>19</a>\u001b[0m \u001b[39mwhile\u001b[39;00m teekoGame\u001b[39m.\u001b[39;49mmoveBoads() \u001b[39mand\u001b[39;00m \u001b[39mnot\u001b[39;00m(teekoGame\u001b[39m.\u001b[39mWinner(player1\u001b[39m.\u001b[39mcharacter)) \u001b[39mand\u001b[39;00m \u001b[39mnot\u001b[39;00m(teekoGame\u001b[39m.\u001b[39mWinner(player2\u001b[39m.\u001b[39mcharacter)):\n\u001b[0;32m     <a href='vscode-notebook-cell:/c%3A/Users/Antonio/Documents/Universidad/II-2022/Sistemas%20Inteligentes/Tareas%20Otros/Teeko/Teeko/Game_Teeko.ipynb#X25sZmlsZQ%3D%3D?line=19'>20</a>\u001b[0m     PlayGame\u001b[39m.\u001b[39mmovePlayer(teekoGame, player1)\n\u001b[0;32m     <a href='vscode-notebook-cell:/c%3A/Users/Antonio/Documents/Universidad/II-2022/Sistemas%20Inteligentes/Tareas%20Otros/Teeko/Teeko/Game_Teeko.ipynb#X25sZmlsZQ%3D%3D?line=20'>21</a>\u001b[0m     \u001b[39mif\u001b[39;00m teekoGame\u001b[39m.\u001b[39mmoveBoads() \u001b[39mand\u001b[39;00m \u001b[39mnot\u001b[39;00m(teekoGame\u001b[39m.\u001b[39mWinner(player1\u001b[39m.\u001b[39mcharacter)) \u001b[39mand\u001b[39;00m \u001b[39mnot\u001b[39;00m(teekoGame\u001b[39m.\u001b[39mWinner(player1\u001b[39m.\u001b[39mcharacter)):\n",
      "\u001b[1;32mc:\\Users\\Antonio\\Documents\\Universidad\\II-2022\\Sistemas Inteligentes\\Tareas Otros\\Teeko\\Teeko\\Game_Teeko.ipynb Celda 6\u001b[0m in \u001b[0;36mTeekoGame.moveBoads\u001b[1;34m()\u001b[0m\n\u001b[0;32m      <a href='vscode-notebook-cell:/c%3A/Users/Antonio/Documents/Universidad/II-2022/Sistemas%20Inteligentes/Tareas%20Otros/Teeko/Teeko/Game_Teeko.ipynb#X25sZmlsZQ%3D%3D?line=3'>4</a>\u001b[0m \u001b[39mdef\u001b[39;00m \u001b[39mmoveBoads\u001b[39m():\n\u001b[1;32m----> <a href='vscode-notebook-cell:/c%3A/Users/Antonio/Documents/Universidad/II-2022/Sistemas%20Inteligentes/Tareas%20Otros/Teeko/Teeko/Game_Teeko.ipynb#X25sZmlsZQ%3D%3D?line=4'>5</a>\u001b[0m     \u001b[39mfor\u001b[39;00m row \u001b[39min\u001b[39;00m \u001b[39m5\u001b[39m:\n\u001b[0;32m      <a href='vscode-notebook-cell:/c%3A/Users/Antonio/Documents/Universidad/II-2022/Sistemas%20Inteligentes/Tareas%20Otros/Teeko/Teeko/Game_Teeko.ipynb#X25sZmlsZQ%3D%3D?line=5'>6</a>\u001b[0m         \u001b[39mfor\u001b[39;00m column \u001b[39min\u001b[39;00m \u001b[39m5\u001b[39m:\n\u001b[0;32m      <a href='vscode-notebook-cell:/c%3A/Users/Antonio/Documents/Universidad/II-2022/Sistemas%20Inteligentes/Tareas%20Otros/Teeko/Teeko/Game_Teeko.ipynb#X25sZmlsZQ%3D%3D?line=6'>7</a>\u001b[0m             \u001b[39mif\u001b[39;00m board_arr[row][column] \u001b[39m==\u001b[39m \u001b[39m\"\u001b[39m\u001b[39m \u001b[39m\u001b[39m\"\u001b[39m:\n",
      "\u001b[1;31mTypeError\u001b[0m: 'int' object is not iterable"
     ]
    }
   ],
   "source": [
    "class Main:\n",
    "\n",
    "    playGame = PlayGame\n",
    "\n",
    "    player1 = Player\n",
    "    player2 = Player\n",
    "\n",
    "    print(\"Insert name player 1\")\n",
    "    name1 = input()\n",
    "    print(\"Hi\", name1)\n",
    "    print(\"Insert name player 2\")\n",
    "    name2 = input()\n",
    "    print(\"Hi\", name2)\n",
    "    playGame.InitPlayer(player1, name1, \"x\")\n",
    "    playGame.InitPlayer(player2, name1, \"o\")\n",
    "    player = playGame.InitGame(player1, player2)\n",
    "\n",
    "    if player.winner:\n",
    "        print(player.name + \"Wins!\")\n",
    "    else:\n",
    "        print(player.name + \"Draw!\")\n"
   ]
  }
 ],
 "metadata": {
  "kernelspec": {
   "display_name": "Python 3.10.6 64-bit",
   "language": "python",
   "name": "python3"
  },
  "language_info": {
   "codemirror_mode": {
    "name": "ipython",
    "version": 3
   },
   "file_extension": ".py",
   "mimetype": "text/x-python",
   "name": "python",
   "nbconvert_exporter": "python",
   "pygments_lexer": "ipython3",
   "version": "3.10.6"
  },
  "orig_nbformat": 4,
  "vscode": {
   "interpreter": {
    "hash": "dcf522520c4ab294874b08ad2d5e2f4ff47a53358720a277eb0c4174011f720e"
   }
  }
 },
 "nbformat": 4,
 "nbformat_minor": 2
}
