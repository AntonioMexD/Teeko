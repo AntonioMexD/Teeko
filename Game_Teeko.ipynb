{
 "cells": [
  {
   "cell_type": "code",
   "execution_count": 1,
   "metadata": {},
   "outputs": [],
   "source": [
    "import math\n",
    "import matplotlib.pyplot as plt\n",
    "import numpy as np\n",
    "from time import time\n",
    "import random\n",
    "import turtle\n",
    "import msvcrt"
   ]
  },
  {
   "cell_type": "code",
   "execution_count": 2,
   "metadata": {},
   "outputs": [],
   "source": [
    "class Player:\n",
    "    name = \"\"\n",
    "    character = \"\"\n",
    "    winner = \"\""
   ]
  },
  {
   "cell_type": "code",
   "execution_count": 3,
   "metadata": {},
   "outputs": [],
   "source": [
    "board_arr = np.array([[\" \", \" \", \" \", \" \", \" \"],\n",
    "                      [\" \", \" \", \" \", \" \", \" \"],\n",
    "                      [\" \", \" \", \" \", \" \", \" \"],\n",
    "                      [\" \", \" \", \" \", \" \", \" \"],\n",
    "                      [\" \", \" \", \" \", \" \", \" \"]])"
   ]
  },
  {
   "cell_type": "code",
   "execution_count": 4,
   "metadata": {},
   "outputs": [],
   "source": [
    "class TeekoGame:\n",
    "    cant = 0\n",
    "    state = False\n",
    "    def moveBoads():\n",
    "        for row in 5:\n",
    "            for column in 5:\n",
    "                if board_arr[row][column] == \" \":\n",
    "                    cant = cant + 1\n",
    "        if cant > 0:\n",
    "            state = True\n",
    "        return state\n",
    "\n",
    "    def validMove(pos):\n",
    "        state = False\n",
    "        if board_arr[pos][pos]==\" \":\n",
    "            state = True\n",
    "        return state\n",
    "\n",
    "    def newMove(pos, state):\n",
    "        print(\"Choose anothe possition\")\n",
    "        if state == True:\n",
    "            newPos = msvcrt.getch()\n",
    "        else:\n",
    "            newPos = pos\n",
    "        return newPos\n",
    "\n",
    "    def playerTurn(pos, piece, move, aux):\n",
    "        if TeekoGame.validMove(pos):\n",
    "            board_arr[pos][pos] = piece\n",
    "        else:\n",
    "            newPos = TeekoGame.newMove(aux, move)\n",
    "            while (TeekoGame.validMove(newPos)==False):\n",
    "                newPos=TeekoGame.newMove(aux, move)\n",
    "            board_arr[newPos][newPos] = piece\n",
    "    \n",
    "    def isWinner(pos, piece, cont):\n",
    "        if (board_arr[pos][0] == piece and board_arr[pos][1] == piece and board_arr[pos][2] == piece and board_arr[pos][3] == piece):\n",
    "            cont=cont+1\n",
    "        if (board_arr[0][pos] == piece and board_arr[1][pos] == piece and board_arr[2][pos] == piece and board_arr[3][pos] == piece):\n",
    "            cont=cont+1\n",
    "        if (board_arr[0][0] == piece and board_arr[1][1] == piece and board_arr[2][2] == piece and board_arr[3][3] == piece):\n",
    "            cont=cont+1\n",
    "        if (board_arr[0][2] == piece and board_arr[1][1] == piece and board_arr[2][0] == piece):\n",
    "            cont=cont+1\n",
    "        return cont\n",
    "\n",
    "    def Winner(pos, piece, cont):\n",
    "        state = False\n",
    "        cont = 0\n",
    "        for i in 5:\n",
    "            cont = TeekoGame.isWinner(pos, piece, cont)\n",
    "        if cont > 0:\n",
    "            state = True\n",
    "        return state"
   ]
  },
  {
   "cell_type": "code",
   "execution_count": 6,
   "metadata": {},
   "outputs": [],
   "source": [
    "class PlayGame:\n",
    "\n",
    "    def movePlayer(board, player):\n",
    "        print(\"Your turn player\")\n",
    "        pos = msvcrt.getch()\n",
    "        board.playerTurn(pos, player.piece, True, aux)\n",
    "        board.GameBoard()\n",
    "    \n",
    "    def InitGame(player1, player2):\n",
    "        teekoGame = TeekoGame\n",
    "        player = Player\n",
    "        while teekoGame.moveBoads() and not(teekoGame.Winner(player1.character)) and not(teekoGame.Winner(player2.character)):\n",
    "            PlayGame.movePlayer(teekoGame, player1)\n",
    "            if teekoGame.moveBoads() and not(teekoGame.Winner(player1.character)) and not(teekoGame.Winner(player1.character)):\n",
    "                PlayGame.movePlayer(teekoGame, player2)\n",
    "        if teekoGame.Winner(player1.character):\n",
    "            player1.winner = True\n",
    "            player = player1\n",
    "        else:\n",
    "            if teekoGame.Winner(player2.character):\n",
    "                player2.winner = True\n",
    "                player = player2\n",
    "        return player   "
   ]
  },
  {
   "cell_type": "code",
   "execution_count": 7,
   "metadata": {},
   "outputs": [
    {
     "name": "stdout",
     "output_type": "stream",
     "text": [
      "Insert name player 1\n"
     ]
    }
   ],
   "source": [
    "class Main:\n",
    "\n",
    "    playGame = PlayGame\n",
    "\n",
    "    player1 = Player\n",
    "    player2 = Player\n",
    "\n",
    "    print(\"Insert name player 1\")\n",
    "    name1 = msvcrt.getch()\n",
    "    print(\"Insert name player 2\")\n",
    "    name2 = msvcrt.getch()\n",
    "\n",
    "    playGame.InitGame(player1, name1)\n",
    "    playGame.InitGame(player2, name2)\n",
    "    player = playGame.InitGame(player1, player2)\n",
    "\n",
    "    if player.winner:\n",
    "        print(player.name + \"Wins!\")\n",
    "    else:\n",
    "        print(player.name + \"Draw!\")\n"
   ]
  }
 ],
 "metadata": {
  "kernelspec": {
   "display_name": "Python 3.10.6 64-bit",
   "language": "python",
   "name": "python3"
  },
  "language_info": {
   "codemirror_mode": {
    "name": "ipython",
    "version": 3
   },
   "file_extension": ".py",
   "mimetype": "text/x-python",
   "name": "python",
   "nbconvert_exporter": "python",
   "pygments_lexer": "ipython3",
   "version": "3.10.6"
  },
  "orig_nbformat": 4,
  "vscode": {
   "interpreter": {
    "hash": "dcf522520c4ab294874b08ad2d5e2f4ff47a53358720a277eb0c4174011f720e"
   }
  }
 },
 "nbformat": 4,
 "nbformat_minor": 2
}
