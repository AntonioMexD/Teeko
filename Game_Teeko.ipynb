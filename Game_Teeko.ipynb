{
 "cells": [
  {
   "cell_type": "code",
   "execution_count": 4,
   "metadata": {},
   "outputs": [],
   "source": [
    "import math\n",
    "import matplotlib.pyplot as plt\n",
    "import numpy as np\n",
    "from time import time\n",
    "import random\n",
    "import turtle\n",
    "import msvcrt"
   ]
  },
  {
   "cell_type": "code",
   "execution_count": null,
   "metadata": {},
   "outputs": [],
   "source": [
    "board_arr = np.array([[\" \", \" \", \" \", \" \", \" \"],\n",
    "                      [\" \", \" \", \" \", \" \", \" \"],\n",
    "                      [\" \", \" \", \" \", \" \", \" \"],\n",
    "                      [\" \", \" \", \" \", \" \", \" \"],\n",
    "                      [\" \", \" \", \" \", \" \", \" \"]])"
   ]
  },
  {
   "cell_type": "code",
   "execution_count": null,
   "metadata": {},
   "outputs": [],
   "source": [
    "class TeekoGame:\n",
    "\n",
    "    def validMove(pos):\n",
    "        state = False\n",
    "        if board_arr[pos][pos]==\" \":\n",
    "            state = True\n",
    "        return state\n",
    "\n",
    "    def newMove(pos, state):\n",
    "        print(\"Choose anothe possition\")\n",
    "        if state == True:\n",
    "            newPos = msvcrt.getch()\n",
    "        else:\n",
    "            newPos = pos\n",
    "        return newPos\n",
    "\n",
    "    def playerTurn(pos, piece, move, aux):\n",
    "        if TeekoGame.validMove(pos):\n",
    "            board_arr[pos][pos] = piece\n",
    "        else:\n",
    "            newPos = TeekoGame.newMove(aux, move)\n",
    "            while (TeekoGame.validMove(newPos)==False):\n",
    "                newPos=TeekoGame.newMove(aux, move)\n",
    "            board_arr[newPos][newPos] = piece\n",
    "    \n",
    "    def isWinner(pos, piece, cont):\n",
    "        if (board_arr[pos][0] == piece and board_arr[pos][1] == piece and board_arr[pos][2] == piece and board_arr[pos][3] == piece):\n",
    "            cont=cont+1\n",
    "        if (board_arr[0][pos] == piece and board_arr[1][pos] == piece and board_arr[2][pos] == piece and board_arr[3][pos] == piece):\n",
    "            cont=cont+1\n",
    "        if (board_arr[0][0] == piece and board_arr[1][1] == piece and board_arr[2][2] == piece and board_arr[3][3] == piece):\n",
    "            cont=cont+1\n",
    "        if (board_arr[0][2] == piece and board_arr[1][1] == piece and board_arr[2][0] == piece):\n",
    "            cont=cont+1\n",
    "        return cont\n",
    "\n",
    "    def Winner(pos, piece, cont):\n",
    "        state = False\n",
    "        cont = 0\n",
    "        for i in 5:\n",
    "            cont = TeekoGame.isWinner(pos, piece, cont)\n",
    "        if cont > 0:\n",
    "            state = True\n",
    "        return state"
   ]
  },
  {
   "cell_type": "code",
   "execution_count": null,
   "metadata": {},
   "outputs": [],
   "source": [
    "class PlayGame:\n",
    "    def movePlayer(board, player):\n",
    "        print(\"Your turn player\")\n",
    "        pos = msvcrt.getch()\n",
    "        board.playerTurn(pos, player.piece, true, aux)\n",
    "        board.GameBoard()\n",
    "    \n",
    "    def InitGame(player1, player2):\n",
    "        teekoGame = TeekoGame\n",
    "        #\n",
    "        while teekoGame.mo\n"
   ]
  },
  {
   "cell_type": "code",
   "execution_count": null,
   "metadata": {},
   "outputs": [],
   "source": [
    "teeko = TeekoGame()\n",
    "teeko."
   ]
  },
  {
   "cell_type": "code",
   "execution_count": 11,
   "metadata": {},
   "outputs": [],
   "source": [
    "\n",
    "#sc = turtle.Screen()\n",
    "#pen = turtle.Turtle()"
   ]
  },
  {
   "cell_type": "code",
   "execution_count": 13,
   "metadata": {},
   "outputs": [],
   "source": [
    "#def board_func():\n",
    "#    for row in range(4):\n",
    "#        pen.forward(30)\n",
    "#        pen.left(90)\n",
    "        \n",
    "#    pen.forward(30)"
   ]
  },
  {
   "cell_type": "code",
   "execution_count": 14,
   "metadata": {},
   "outputs": [
    {
     "ename": "",
     "evalue": "",
     "output_type": "error",
     "traceback": [
      "\u001b[1;31mEl Kernel se bloqueó al ejecutar código en la celda actual o en una celda anterior. Revise el código de las celdas para identificar una posible causa del error. Haga clic <a href='https://aka.ms/vscodeJupyterKernelCrash'>aquí</a> para obtener más información. Vea el [registro] de Jupyter (command:jupyter.viewOutput) para obtener más detalles."
     ]
    }
   ],
   "source": [
    "#def board_game():\n",
    "#    if __name__ == \"__main__\" :\n",
    "#        sc.setup(600, 600)\n",
    "#        pen.speed(100)\n",
    "#        for i in range(5):\n",
    "#            pen.up()\n",
    "#            pen.setpos(0, 30 * i)\n",
    "#            pen.down()\n",
    "#            for j in range(5):\n",
    "#                if (i + j)% 2 == 0:\n",
    "#                    col ='black'\n",
    "#                else:\n",
    "#                    col ='white'\n",
    "#                pen.fillcolor(col)\n",
    "#                pen.begin_fill()\n",
    "#                board_func()\n",
    "#                pen.end_fill()\n",
    "#        pen.hideturtle()"
   ]
  }
 ],
 "metadata": {
  "kernelspec": {
   "display_name": "Python 3.9.2 64-bit",
   "language": "python",
   "name": "python3"
  },
  "language_info": {
   "codemirror_mode": {
    "name": "ipython",
    "version": 3
   },
   "file_extension": ".py",
   "mimetype": "text/x-python",
   "name": "python",
   "nbconvert_exporter": "python",
   "pygments_lexer": "ipython3",
   "version": "3.9.2"
  },
  "orig_nbformat": 4,
  "vscode": {
   "interpreter": {
    "hash": "4c75d34ee1fcdb015885d85ab071295bd815e7d150290c0ae76b929ae622a1c7"
   }
  }
 },
 "nbformat": 4,
 "nbformat_minor": 2
}
