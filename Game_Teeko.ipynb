{
 "cells": [
  {
   "cell_type": "code",
   "execution_count": 1,
   "metadata": {},
   "outputs": [],
   "source": [
    "import math\n",
    "import matplotlib.pyplot as plt\n",
    "import numpy as np\n",
    "import random\n",
    "import numpy as geek "
   ]
  },
  {
   "cell_type": "code",
   "execution_count": 2,
   "metadata": {},
   "outputs": [
    {
     "name": "stdout",
     "output_type": "stream",
     "text": [
      "[[0 0 0 0 0]\n",
      " [0 0 0 0 0]\n",
      " [0 0 0 0 0]\n",
      " [0 0 0 0 0]\n",
      " [0 0 0 0 0]]\n"
     ]
    }
   ],
   "source": [
    "initial_board = geek.zeros([5, 5], dtype = int)\n",
    "print(initial_board)"
   ]
  },
  {
   "cell_type": "code",
   "execution_count": 3,
   "metadata": {},
   "outputs": [],
   "source": [
    "class State:\n",
    "    def __init__(self):\n",
    "        self.father = None\n",
    "        self.board = None\n",
    "        \n",
    "class Player:\n",
    "    def __init__(self):\n",
    "        self.value = None\n",
    "        self.moves = 0\n",
    "        self.name = None\n",
    "        \n",
    "def terminal_test(state):\n",
    "    #Horizontal\n",
    "    for i in range(5):\n",
    "        if np.all(state.board[i][0:4] == 1) or np.all(state.board[i][1:5] == 1):\n",
    "            return 1\n",
    "        elif np.all(state.board[i][0:4] == 2) or np.all(state.board[i][1:5] == 2):\n",
    "            return -1\n",
    "        else:\n",
    "            return 0\n",
    "        \n",
    "def question_place(player):\n",
    "    print(f'{player.name} Ingresa la posicion xy:')\n",
    "    pos = input()\n",
    "    x_pos=int(pos[0])\n",
    "    y_pos=int(pos[1])\n",
    "    return x_pos, y_pos\n",
    "\n",
    "def validate_place(x_pos, y_pos, board):\n",
    "    if(x_pos>=0 and x_pos<5 and y_pos>=0 and y_pos<5):\n",
    "        if(board[x_pos][y_pos]==0):\n",
    "            return True\n",
    "    return False\n",
    "    \n",
    "        \n",
    "def init_Game(initial_board,player1,player2,movelimits):\n",
    "    #start_state = State()\n",
    "    #start_state.value = initial_board\n",
    "    \n",
    "    board=initial_board\n",
    "    for i in range(4):\n",
    "        #Player1\n",
    "        x_pos,y_pos=question_place(player1)\n",
    "        while(validate_place(x_pos,y_pos, board)==False):\n",
    "            print(\"lugar invalido.. vuelve a intentar\")\n",
    "            x_pos,y_pos=question_place(player1)\n",
    "        board[x_pos][y_pos]=player1.value\n",
    "        print(board)\n",
    "        \n",
    "        #Player2\n",
    "        x_pos,y_pos=question_place(player2)\n",
    "        while(validate_place(x_pos,y_pos, board)==False):\n",
    "            print(\"lugar invalido.. vuelve a intentar\")\n",
    "            x_pos,y_pos=question_place(player2)\n",
    "        board[x_pos][y_pos]=player2.value\n",
    "        print(board)\n",
    "\n"
   ]
  },
  {
   "cell_type": "code",
   "execution_count": 4,
   "metadata": {},
   "outputs": [
    {
     "name": "stdout",
     "output_type": "stream",
     "text": [
      "juan Ingresa la posicion xy:\n",
      "23\n",
      "[[0 0 0 0 0]\n",
      " [0 0 0 0 0]\n",
      " [0 0 0 1 0]\n",
      " [0 0 0 0 0]\n",
      " [0 0 0 0 0]]\n",
      "Pedro Ingresa la posicion xy:\n",
      "21\n",
      "[[0 0 0 0 0]\n",
      " [0 0 0 0 0]\n",
      " [0 2 0 1 0]\n",
      " [0 0 0 0 0]\n",
      " [0 0 0 0 0]]\n",
      "juan Ingresa la posicion xy:\n",
      "01\n",
      "[[0 1 0 0 0]\n",
      " [0 0 0 0 0]\n",
      " [0 2 0 1 0]\n",
      " [0 0 0 0 0]\n",
      " [0 0 0 0 0]]\n",
      "Pedro Ingresa la posicion xy:\n",
      "34\n",
      "[[0 1 0 0 0]\n",
      " [0 0 0 0 0]\n",
      " [0 2 0 1 0]\n",
      " [0 0 0 0 2]\n",
      " [0 0 0 0 0]]\n",
      "juan Ingresa la posicion xy:\n",
      "54\n",
      "lugar invalido.. vuelve a intentar\n",
      "juan Ingresa la posicion xy:\n",
      "11\n",
      "[[0 1 0 0 0]\n",
      " [0 1 0 0 0]\n",
      " [0 2 0 1 0]\n",
      " [0 0 0 0 2]\n",
      " [0 0 0 0 0]]\n",
      "Pedro Ingresa la posicion xy:\n",
      "22\n",
      "[[0 1 0 0 0]\n",
      " [0 1 0 0 0]\n",
      " [0 2 2 1 0]\n",
      " [0 0 0 0 2]\n",
      " [0 0 0 0 0]]\n",
      "juan Ingresa la posicion xy:\n",
      "33\n",
      "[[0 1 0 0 0]\n",
      " [0 1 0 0 0]\n",
      " [0 2 2 1 0]\n",
      " [0 0 0 1 2]\n",
      " [0 0 0 0 0]]\n",
      "Pedro Ingresa la posicion xy:\n",
      "44\n",
      "[[0 1 0 0 0]\n",
      " [0 1 0 0 0]\n",
      " [0 2 2 1 0]\n",
      " [0 0 0 1 2]\n",
      " [0 0 0 0 2]]\n"
     ]
    }
   ],
   "source": [
    "p1=Player()\n",
    "p1.value=1\n",
    "p1.name=\"juan\"\n",
    "p2=Player()\n",
    "p2.value=2\n",
    "p2.name=\"Pedro\"\n",
    "movelimits=30\n",
    "\n",
    "init_Game(initial_board,p1,p2,movelimits)"
   ]
  },
  {
   "cell_type": "code",
   "execution_count": null,
   "metadata": {},
   "outputs": [],
   "source": []
  }
 ],
 "metadata": {
  "kernelspec": {
   "display_name": "Python 3 (ipykernel)",
   "language": "python",
   "name": "python3"
  },
  "language_info": {
   "codemirror_mode": {
    "name": "ipython",
    "version": 3
   },
   "file_extension": ".py",
   "mimetype": "text/x-python",
   "name": "python",
   "nbconvert_exporter": "python",
   "pygments_lexer": "ipython3",
   "version": "3.9.7"
  },
  "vscode": {
   "interpreter": {
    "hash": "dcf522520c4ab294874b08ad2d5e2f4ff47a53358720a277eb0c4174011f720e"
   }
  }
 },
 "nbformat": 4,
 "nbformat_minor": 2
}
